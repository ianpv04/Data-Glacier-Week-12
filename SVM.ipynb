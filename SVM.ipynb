{
 "cells": [
  {
   "cell_type": "code",
   "execution_count": 9,
   "metadata": {
    "tags": []
   },
   "outputs": [],
   "source": [
    "# project_copy is a focused snapshot of the full project code at the moment of this file's creation. \n",
    "# It contains cleaning and preprocessing steps to get our data model-ready\n",
    "%run project_preprocessing.ipynb ;\n",
    "\n",
    "# We are going to be testing support vector machine model only on one dataset due to its computational cost\n",
    "# df_woe - Data that underwent Weight of Evidence transformation"
   ]
  },
  {
   "cell_type": "code",
   "execution_count": 11,
   "metadata": {},
   "outputs": [],
   "source": [
    "from sklearn.model_selection import train_test_split\n",
    "from sklearn.svm import SVC\n",
    "from sklearn.metrics import classification_report\n",
    "from sklearn.metrics import confusion_matrix\n",
    "from sklearn.model_selection import GridSearchCV"
   ]
  },
  {
   "cell_type": "code",
   "execution_count": 12,
   "metadata": {},
   "outputs": [
    {
     "name": "stdout",
     "output_type": "stream",
     "text": [
      "Fitting 3 folds for each of 25 candidates, totalling 75 fits\n",
      "[CV 1/3] END C=0.1, class_weight=balanced, gamma=1, kernel=rbf;, score=0.830 total time=  12.5s\n",
      "[CV 2/3] END C=0.1, class_weight=balanced, gamma=1, kernel=rbf;, score=0.837 total time=  12.8s\n",
      "[CV 3/3] END C=0.1, class_weight=balanced, gamma=1, kernel=rbf;, score=0.823 total time=  12.6s\n",
      "[CV 1/3] END C=0.1, class_weight=balanced, gamma=0.1, kernel=rbf;, score=0.844 total time=   8.7s\n",
      "[CV 2/3] END C=0.1, class_weight=balanced, gamma=0.1, kernel=rbf;, score=0.852 total time=   8.9s\n",
      "[CV 3/3] END C=0.1, class_weight=balanced, gamma=0.1, kernel=rbf;, score=0.839 total time=   8.7s\n",
      "[CV 1/3] END C=0.1, class_weight=balanced, gamma=0.01, kernel=rbf;, score=0.849 total time=   9.9s\n",
      "[CV 2/3] END C=0.1, class_weight=balanced, gamma=0.01, kernel=rbf;, score=0.855 total time=  10.4s\n",
      "[CV 3/3] END C=0.1, class_weight=balanced, gamma=0.01, kernel=rbf;, score=0.845 total time=  10.2s\n",
      "[CV 1/3] END C=0.1, class_weight=balanced, gamma=0.001, kernel=rbf;, score=0.845 total time=  15.0s\n",
      "[CV 2/3] END C=0.1, class_weight=balanced, gamma=0.001, kernel=rbf;, score=0.849 total time=  15.4s\n",
      "[CV 3/3] END C=0.1, class_weight=balanced, gamma=0.001, kernel=rbf;, score=0.840 total time=  14.8s\n",
      "[CV 1/3] END C=0.1, class_weight=balanced, gamma=0.0001, kernel=rbf;, score=0.850 total time=  24.4s\n",
      "[CV 2/3] END C=0.1, class_weight=balanced, gamma=0.0001, kernel=rbf;, score=0.850 total time=  24.4s\n",
      "[CV 3/3] END C=0.1, class_weight=balanced, gamma=0.0001, kernel=rbf;, score=0.830 total time=  23.9s\n",
      "[CV 1/3] END C=1, class_weight=balanced, gamma=1, kernel=rbf;, score=0.874 total time=  12.5s\n",
      "[CV 2/3] END C=1, class_weight=balanced, gamma=1, kernel=rbf;, score=0.883 total time=  12.7s\n",
      "[CV 3/3] END C=1, class_weight=balanced, gamma=1, kernel=rbf;, score=0.872 total time=  12.4s\n",
      "[CV 1/3] END C=1, class_weight=balanced, gamma=0.1, kernel=rbf;, score=0.850 total time=   8.5s\n",
      "[CV 2/3] END C=1, class_weight=balanced, gamma=0.1, kernel=rbf;, score=0.857 total time=   8.9s\n",
      "[CV 3/3] END C=1, class_weight=balanced, gamma=0.1, kernel=rbf;, score=0.848 total time=   8.6s\n",
      "[CV 1/3] END C=1, class_weight=balanced, gamma=0.01, kernel=rbf;, score=0.851 total time=   8.8s\n",
      "[CV 2/3] END C=1, class_weight=balanced, gamma=0.01, kernel=rbf;, score=0.851 total time=   9.5s\n",
      "[CV 3/3] END C=1, class_weight=balanced, gamma=0.01, kernel=rbf;, score=0.845 total time=   9.3s\n",
      "[CV 1/3] END C=1, class_weight=balanced, gamma=0.001, kernel=rbf;, score=0.849 total time=  10.5s\n",
      "[CV 2/3] END C=1, class_weight=balanced, gamma=0.001, kernel=rbf;, score=0.854 total time=  10.9s\n",
      "[CV 3/3] END C=1, class_weight=balanced, gamma=0.001, kernel=rbf;, score=0.843 total time=  10.8s\n",
      "[CV 1/3] END C=1, class_weight=balanced, gamma=0.0001, kernel=rbf;, score=0.845 total time=  14.9s\n",
      "[CV 2/3] END C=1, class_weight=balanced, gamma=0.0001, kernel=rbf;, score=0.849 total time=  15.7s\n",
      "[CV 3/3] END C=1, class_weight=balanced, gamma=0.0001, kernel=rbf;, score=0.840 total time=  14.8s\n",
      "[CV 1/3] END C=10, class_weight=balanced, gamma=1, kernel=rbf;, score=0.882 total time=  16.7s\n",
      "[CV 2/3] END C=10, class_weight=balanced, gamma=1, kernel=rbf;, score=0.880 total time=  16.2s\n",
      "[CV 3/3] END C=10, class_weight=balanced, gamma=1, kernel=rbf;, score=0.879 total time=  14.8s\n",
      "[CV 1/3] END C=10, class_weight=balanced, gamma=0.1, kernel=rbf;, score=0.858 total time=   8.6s\n",
      "[CV 2/3] END C=10, class_weight=balanced, gamma=0.1, kernel=rbf;, score=0.862 total time=   9.0s\n",
      "[CV 3/3] END C=10, class_weight=balanced, gamma=0.1, kernel=rbf;, score=0.853 total time=   8.6s\n",
      "[CV 1/3] END C=10, class_weight=balanced, gamma=0.01, kernel=rbf;, score=0.846 total time=   8.2s\n",
      "[CV 2/3] END C=10, class_weight=balanced, gamma=0.01, kernel=rbf;, score=0.848 total time=   8.7s\n",
      "[CV 3/3] END C=10, class_weight=balanced, gamma=0.01, kernel=rbf;, score=0.841 total time=   8.3s\n",
      "[CV 1/3] END C=10, class_weight=balanced, gamma=0.001, kernel=rbf;, score=0.852 total time=   8.7s\n",
      "[CV 2/3] END C=10, class_weight=balanced, gamma=0.001, kernel=rbf;, score=0.852 total time=   9.1s\n",
      "[CV 3/3] END C=10, class_weight=balanced, gamma=0.001, kernel=rbf;, score=0.845 total time=   8.7s\n",
      "[CV 1/3] END C=10, class_weight=balanced, gamma=0.0001, kernel=rbf;, score=0.849 total time=   9.8s\n",
      "[CV 2/3] END C=10, class_weight=balanced, gamma=0.0001, kernel=rbf;, score=0.854 total time=  10.1s\n",
      "[CV 3/3] END C=10, class_weight=balanced, gamma=0.0001, kernel=rbf;, score=0.843 total time=  11.0s\n",
      "[CV 1/3] END C=100, class_weight=balanced, gamma=1, kernel=rbf;, score=0.883 total time=  18.6s\n",
      "[CV 2/3] END C=100, class_weight=balanced, gamma=1, kernel=rbf;, score=0.885 total time=  16.5s\n",
      "[CV 3/3] END C=100, class_weight=balanced, gamma=1, kernel=rbf;, score=0.882 total time=  16.7s\n",
      "[CV 1/3] END C=100, class_weight=balanced, gamma=0.1, kernel=rbf;, score=0.862 total time=  13.8s\n",
      "[CV 2/3] END C=100, class_weight=balanced, gamma=0.1, kernel=rbf;, score=0.865 total time=  14.0s\n",
      "[CV 3/3] END C=100, class_weight=balanced, gamma=0.1, kernel=rbf;, score=0.859 total time=  13.6s\n",
      "[CV 1/3] END C=100, class_weight=balanced, gamma=0.01, kernel=rbf;, score=0.848 total time=   8.9s\n",
      "[CV 2/3] END C=100, class_weight=balanced, gamma=0.01, kernel=rbf;, score=0.854 total time=   9.4s\n",
      "[CV 3/3] END C=100, class_weight=balanced, gamma=0.01, kernel=rbf;, score=0.841 total time=   9.0s\n",
      "[CV 1/3] END C=100, class_weight=balanced, gamma=0.001, kernel=rbf;, score=0.852 total time=   8.3s\n",
      "[CV 2/3] END C=100, class_weight=balanced, gamma=0.001, kernel=rbf;, score=0.852 total time=   8.8s\n",
      "[CV 3/3] END C=100, class_weight=balanced, gamma=0.001, kernel=rbf;, score=0.846 total time=   8.4s\n",
      "[CV 1/3] END C=100, class_weight=balanced, gamma=0.0001, kernel=rbf;, score=0.851 total time=   8.5s\n",
      "[CV 2/3] END C=100, class_weight=balanced, gamma=0.0001, kernel=rbf;, score=0.851 total time=   9.0s\n",
      "[CV 3/3] END C=100, class_weight=balanced, gamma=0.0001, kernel=rbf;, score=0.845 total time=   8.6s\n",
      "[CV 1/3] END C=1000, class_weight=balanced, gamma=1, kernel=rbf;, score=0.886 total time=  16.0s\n",
      "[CV 2/3] END C=1000, class_weight=balanced, gamma=1, kernel=rbf;, score=0.886 total time=  16.1s\n",
      "[CV 3/3] END C=1000, class_weight=balanced, gamma=1, kernel=rbf;, score=0.882 total time=  15.6s\n",
      "[CV 1/3] END C=1000, class_weight=balanced, gamma=0.1, kernel=rbf;, score=0.866 total time=  43.8s\n",
      "[CV 2/3] END C=1000, class_weight=balanced, gamma=0.1, kernel=rbf;, score=0.871 total time=  45.8s\n",
      "[CV 3/3] END C=1000, class_weight=balanced, gamma=0.1, kernel=rbf;, score=0.864 total time=  45.6s\n",
      "[CV 1/3] END C=1000, class_weight=balanced, gamma=0.01, kernel=rbf;, score=0.851 total time=  17.3s\n",
      "[CV 2/3] END C=1000, class_weight=balanced, gamma=0.01, kernel=rbf;, score=0.859 total time=  17.5s\n",
      "[CV 3/3] END C=1000, class_weight=balanced, gamma=0.01, kernel=rbf;, score=0.847 total time=  16.4s\n",
      "[CV 1/3] END C=1000, class_weight=balanced, gamma=0.001, kernel=rbf;, score=0.846 total time=   9.3s\n",
      "[CV 2/3] END C=1000, class_weight=balanced, gamma=0.001, kernel=rbf;, score=0.848 total time=   9.8s\n",
      "[CV 3/3] END C=1000, class_weight=balanced, gamma=0.001, kernel=rbf;, score=0.841 total time=   9.3s\n",
      "[CV 1/3] END C=1000, class_weight=balanced, gamma=0.0001, kernel=rbf;, score=0.852 total time=   8.6s\n",
      "[CV 2/3] END C=1000, class_weight=balanced, gamma=0.0001, kernel=rbf;, score=0.852 total time=   9.1s\n",
      "[CV 3/3] END C=1000, class_weight=balanced, gamma=0.0001, kernel=rbf;, score=0.845 total time=   8.7s\n",
      "[[11190   787]\n",
      " [  772   815]]\n",
      "              precision    recall  f1-score   support\n",
      "\n",
      "           0       0.94      0.93      0.93     11977\n",
      "           1       0.51      0.51      0.51      1587\n",
      "\n",
      "    accuracy                           0.89     13564\n",
      "   macro avg       0.72      0.72      0.72     13564\n",
      "weighted avg       0.89      0.89      0.89     13564\n",
      "\n"
     ]
    }
   ],
   "source": [
    "X_train, X_test, y_train, y_test = train_test_split(df_woe, \n",
    "                                                    df['y'], test_size=0.30)\n",
    "\n",
    "param_grid = {'C': [0.1,1, 10, 100, 1000], 'gamma': [1,0.1,0.01,0.001,0.0001], 'kernel': ['rbf'], 'class_weight': ['balanced']} \n",
    "grid = GridSearchCV(SVC(),param_grid,refit=True,verbose=3, cv = 3)\n",
    "grid.fit(X_train,y_train)\n",
    "grid.best_params_\n",
    "grid.best_estimator_\n",
    "grid_predictions = grid.predict(X_test)\n",
    "\n",
    "print(confusion_matrix(y_test,grid_predictions))\n",
    "print(classification_report(y_test,grid_predictions))"
   ]
  }
 ],
 "metadata": {
  "kernelspec": {
   "display_name": "base",
   "language": "python",
   "name": "python3"
  },
  "language_info": {
   "codemirror_mode": {
    "name": "ipython",
    "version": 3
   },
   "file_extension": ".py",
   "mimetype": "text/x-python",
   "name": "python",
   "nbconvert_exporter": "python",
   "pygments_lexer": "ipython3",
   "version": "3.10.9"
  }
 },
 "nbformat": 4,
 "nbformat_minor": 2
}
