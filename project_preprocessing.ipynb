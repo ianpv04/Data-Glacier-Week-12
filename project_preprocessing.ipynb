{
 "cells": [
  {
   "cell_type": "markdown",
   "metadata": {},
   "source": [
    "***This is a reduced copy of the complete project ipynb in its form at the time, to be imported by the other files in this repo for model testing.***"
   ]
  },
  {
   "cell_type": "markdown",
   "metadata": {},
   "source": [
    "First, we will import the data and necessary packages:"
   ]
  },
  {
   "cell_type": "code",
   "execution_count": 3,
   "metadata": {},
   "outputs": [],
   "source": [
    "import numpy as np\n",
    "import warnings\n",
    "warnings.simplefilter(action='ignore', category=FutureWarning)\n",
    "import pandas as pd\n",
    "pd.options.mode.chained_assignment = None\n",
    "import matplotlib.pyplot as plt\n",
    "from matplotlib.ticker import FuncFormatter\n",
    "import seaborn as sns"
   ]
  },
  {
   "cell_type": "code",
   "execution_count": 9,
   "metadata": {},
   "outputs": [],
   "source": [
    "df = pd.read_csv('bank_data.csv')\n",
    "df.drop(['Unnamed: 0'], axis = 1, inplace = True)"
   ]
  },
  {
   "cell_type": "code",
   "execution_count": 3,
   "metadata": {},
   "outputs": [],
   "source": [
    "df['y'].replace(['no', 'yes'],[0, 1], inplace=True) # convert categorical target to numeric"
   ]
  },
  {
   "cell_type": "code",
   "execution_count": 4,
   "metadata": {},
   "outputs": [],
   "source": [
    "df2 = df[(df[\"balance\"] < 80000) & (df[\"duration\"] < 3500) & (df[\"campaign\"] < 50) & (df[\"previous\"] < 50)] #saving as separate dataframe to use the original for further analysis\n",
    "df3 = df[(df[\"balance\"] < 80000) & (df[\"duration\"] < 3500) & (df[\"campaign\"] < 50) & (df[\"previous\"] < 50)]\n"
   ]
  },
  {
   "cell_type": "code",
   "execution_count": 5,
   "metadata": {},
   "outputs": [],
   "source": [
    "def education_filler(row):\n",
    "    if row['job'] == 'management':\n",
    "        return 'tertiary'\n",
    "    elif row['job'] == 'housemaid':\n",
    "        return 'primary'\n",
    "    else:\n",
    "        return 'secondary' # mode replacement. secondary education is the most common value.\n",
    "\n",
    "df2['education'][df2['education'].isnull() == True] = df2.apply(education_filler, axis = 1)"
   ]
  },
  {
   "cell_type": "markdown",
   "metadata": {},
   "source": [
    "Similarly, we might be able to derive some conclusions about our missing values on 'job' from the age of our subjects. People below 22 years old tend to be students, while people over 60 tend to be retired by a large margin."
   ]
  },
  {
   "cell_type": "code",
   "execution_count": 6,
   "metadata": {},
   "outputs": [],
   "source": [
    "def job_filler(row):\n",
    "    if row['age'] <= 22:\n",
    "        return 'student'\n",
    "    elif row['age'] >= 60:\n",
    "        return 'retired'\n",
    "    else:\n",
    "        return 'blue-collar' # mode replacement.\n",
    "\n",
    "df2['job'][df2['job'].isnull() == True] = df2.apply(job_filler, axis = 1)"
   ]
  },
  {
   "cell_type": "code",
   "execution_count": 7,
   "metadata": {},
   "outputs": [],
   "source": [
    "df2 = df2.drop(['contact', 'poutcome'], axis = 1)"
   ]
  },
  {
   "cell_type": "code",
   "execution_count": 8,
   "metadata": {},
   "outputs": [],
   "source": [
    "df3 = df3.drop(['contact', 'poutcome'], axis = 1).dropna()"
   ]
  },
  {
   "cell_type": "code",
   "execution_count": null,
   "metadata": {},
   "outputs": [],
   "source": [
    "df2 = pd.get_dummies(df2, columns = ['job','marital','education','default','housing','loan','month'], drop_first=True)\n",
    "df3 = pd.get_dummies(df3, columns = ['job','marital','education','default','housing','loan','month'], drop_first=True)"
   ]
  },
  {
   "cell_type": "code",
   "execution_count": 9,
   "metadata": {},
   "outputs": [],
   "source": [
    "import category_encoders as ce\n",
    "\n",
    "X_cols = df.drop('y', axis = 1).columns\n",
    "# Create a WOE encoder\n",
    "encoder = ce.WOEEncoder(cols = X_cols)\n",
    "\n",
    "# Fit the encoder on the data\n",
    "encoder.fit(df[X_cols], df['y'])\n",
    "\n",
    "# Transform the data using the encoder\n",
    "df_woe = encoder.transform(df[X_cols])"
   ]
  }
 ],
 "metadata": {
  "kernelspec": {
   "display_name": "base",
   "language": "python",
   "name": "python3"
  },
  "language_info": {
   "codemirror_mode": {
    "name": "ipython",
    "version": 3
   },
   "file_extension": ".py",
   "mimetype": "text/x-python",
   "name": "python",
   "nbconvert_exporter": "python",
   "pygments_lexer": "ipython3",
   "version": "3.10.9"
  },
  "orig_nbformat": 4
 },
 "nbformat": 4,
 "nbformat_minor": 2
}
