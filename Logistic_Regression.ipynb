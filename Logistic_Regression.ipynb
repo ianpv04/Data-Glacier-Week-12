{
 "cells": [
  {
   "cell_type": "code",
   "execution_count": 82,
   "metadata": {
    "tags": []
   },
   "outputs": [],
   "source": [
    "# project_copy is a snapshot of the full project code at the moment of this file's creation. \n",
    "# It contains cleaning and preprocessing steps to get our data model-ready\n",
    "%run project_preprocessing.ipynb ;\n",
    "\n",
    "# We are going to be testing logistic regression for three datasets:\n",
    "# df2 - Data where missing values on 'job' and 'education' were imputed using other features in the data\n",
    "# df3 - Data where all instances with missing values were deleted, at the cost of 2,018 observations\n",
    "# df_woe - Data that underwent Weight of Evidence transformation"
   ]
  },
  {
   "cell_type": "code",
   "execution_count": 84,
   "metadata": {},
   "outputs": [],
   "source": [
    "from sklearn.model_selection import train_test_split\n",
    "from sklearn.linear_model import LogisticRegression\n",
    "from sklearn.metrics import classification_report"
   ]
  },
  {
   "cell_type": "code",
   "execution_count": 85,
   "metadata": {},
   "outputs": [
    {
     "name": "stdout",
     "output_type": "stream",
     "text": [
      "[[9465 2514]\n",
      " [ 329 1251]]\n",
      "              precision    recall  f1-score   support\n",
      "\n",
      "           0       0.97      0.79      0.87     11979\n",
      "           1       0.33      0.79      0.47      1580\n",
      "\n",
      "    accuracy                           0.79     13559\n",
      "   macro avg       0.65      0.79      0.67     13559\n",
      "weighted avg       0.89      0.79      0.82     13559\n",
      "\n"
     ]
    },
    {
     "name": "stderr",
     "output_type": "stream",
     "text": [
      "c:\\Users\\ianpv\\anaconda3\\lib\\site-packages\\sklearn\\linear_model\\_logistic.py:458: ConvergenceWarning: lbfgs failed to converge (status=1):\n",
      "STOP: TOTAL NO. of ITERATIONS REACHED LIMIT.\n",
      "\n",
      "Increase the number of iterations (max_iter) or scale the data as shown in:\n",
      "    https://scikit-learn.org/stable/modules/preprocessing.html\n",
      "Please also refer to the documentation for alternative solver options:\n",
      "    https://scikit-learn.org/stable/modules/linear_model.html#logistic-regression\n",
      "  n_iter_i = _check_optimize_result(\n"
     ]
    }
   ],
   "source": [
    "X_train, X_test, y_train, y_test = train_test_split(df2.drop('y',axis=1), \n",
    "                                                    df2['y'], test_size=0.30)\n",
    "\n",
    "logmodel = LogisticRegression(class_weight='balanced')\n",
    "logmodel.fit(X_train,y_train)\n",
    "predictions = logmodel.predict(X_test)\n",
    "\n",
    "print(confusion_matrix(y_test,predictions))\n",
    "print(classification_report(y_test,predictions))"
   ]
  },
  {
   "cell_type": "code",
   "execution_count": 86,
   "metadata": {},
   "outputs": [
    {
     "name": "stdout",
     "output_type": "stream",
     "text": [
      "[[9270 2132]\n",
      " [ 342 1210]]\n",
      "              precision    recall  f1-score   support\n",
      "\n",
      "           0       0.96      0.81      0.88     11402\n",
      "           1       0.36      0.78      0.49      1552\n",
      "\n",
      "    accuracy                           0.81     12954\n",
      "   macro avg       0.66      0.80      0.69     12954\n",
      "weighted avg       0.89      0.81      0.84     12954\n",
      "\n"
     ]
    },
    {
     "name": "stderr",
     "output_type": "stream",
     "text": [
      "c:\\Users\\ianpv\\anaconda3\\lib\\site-packages\\sklearn\\linear_model\\_logistic.py:458: ConvergenceWarning: lbfgs failed to converge (status=1):\n",
      "STOP: TOTAL NO. of ITERATIONS REACHED LIMIT.\n",
      "\n",
      "Increase the number of iterations (max_iter) or scale the data as shown in:\n",
      "    https://scikit-learn.org/stable/modules/preprocessing.html\n",
      "Please also refer to the documentation for alternative solver options:\n",
      "    https://scikit-learn.org/stable/modules/linear_model.html#logistic-regression\n",
      "  n_iter_i = _check_optimize_result(\n"
     ]
    }
   ],
   "source": [
    "X_train, X_test, y_train, y_test = train_test_split(df3.drop('y',axis=1), \n",
    "                                                    df3['y'], test_size=0.30)\n",
    "\n",
    "logmodel = LogisticRegression(class_weight='balanced')\n",
    "logmodel.fit(X_train,y_train)\n",
    "predictions = logmodel.predict(X_test)\n",
    "\n",
    "print(confusion_matrix(y_test,predictions))\n",
    "print(classification_report(y_test,predictions))"
   ]
  },
  {
   "cell_type": "code",
   "execution_count": 87,
   "metadata": {},
   "outputs": [
    {
     "name": "stdout",
     "output_type": "stream",
     "text": [
      "[[10160  1764]\n",
      " [  239  1401]]\n",
      "              precision    recall  f1-score   support\n",
      "\n",
      "           0       0.98      0.85      0.91     11924\n",
      "           1       0.44      0.85      0.58      1640\n",
      "\n",
      "    accuracy                           0.85     13564\n",
      "   macro avg       0.71      0.85      0.75     13564\n",
      "weighted avg       0.91      0.85      0.87     13564\n",
      "\n"
     ]
    }
   ],
   "source": [
    "X_train, X_test, y_train, y_test = train_test_split(df_woe, \n",
    "                                                    df['y'], test_size=0.30)\n",
    "\n",
    "logmodel = LogisticRegression(class_weight='balanced')\n",
    "logmodel.fit(X_train,y_train)\n",
    "predictions = logmodel.predict(X_test)\n",
    "\n",
    "print(confusion_matrix(y_test,predictions))\n",
    "print(classification_report(y_test,predictions))"
   ]
  }
 ],
 "metadata": {
  "kernelspec": {
   "display_name": "base",
   "language": "python",
   "name": "python3"
  },
  "language_info": {
   "codemirror_mode": {
    "name": "ipython",
    "version": 3
   },
   "file_extension": ".py",
   "mimetype": "text/x-python",
   "name": "python",
   "nbconvert_exporter": "python",
   "pygments_lexer": "ipython3",
   "version": "3.10.9"
  }
 },
 "nbformat": 4,
 "nbformat_minor": 2
}
